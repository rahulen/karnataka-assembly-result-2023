{
 "cells": [
  {
   "cell_type": "markdown",
   "id": "40c55bad",
   "metadata": {
    "papermill": {
     "duration": 0.013816,
     "end_time": "2023-08-12T09:13:16.983443",
     "exception": false,
     "start_time": "2023-08-12T09:13:16.969627",
     "status": "completed"
    },
    "tags": []
   },
   "source": [
    "# ANALYSIS OF KARNATAKA ASSEMBLY RESULT 2023 DATASET\n"
   ]
  },
  {
   "cell_type": "markdown",
   "id": "d9fb5769",
   "metadata": {
    "papermill": {
     "duration": 0.011781,
     "end_time": "2023-08-12T09:13:17.007739",
     "exception": false,
     "start_time": "2023-08-12T09:13:16.995958",
     "status": "completed"
    },
    "tags": []
   },
   "source": [
    "### This notebook endeavors to conduct an exploratory data analysis on the 2023 assembly election dataset for the Indian state of Karnataka. It offers a comprehensive perspective on various facets of the election outcomes. Despite its concise nature, the notebook presents a comprehensive overview of the election results."
   ]
  },
  {
   "cell_type": "markdown",
   "id": "ae7999e8",
   "metadata": {
    "papermill": {
     "duration": 0.014761,
     "end_time": "2023-08-12T09:13:17.035180",
     "exception": false,
     "start_time": "2023-08-12T09:13:17.020419",
     "status": "completed"
    },
    "tags": []
   },
   "source": [
    "## Problem: Analyzing the Karnataka Assembly Result 2023 Dataset."
   ]
  },
  {
   "cell_type": "markdown",
   "id": "89645339",
   "metadata": {
    "papermill": {
     "duration": 0.01245,
     "end_time": "2023-08-12T09:13:17.061666",
     "exception": false,
     "start_time": "2023-08-12T09:13:17.049216",
     "status": "completed"
    },
    "tags": []
   },
   "source": [
    "## Objective: To conduct EDA and gain insights to the different aspects of data."
   ]
  },
  {
   "cell_type": "markdown",
   "id": "d2b5af81",
   "metadata": {
    "papermill": {
     "duration": 0.012838,
     "end_time": "2023-08-12T09:13:17.086605",
     "exception": false,
     "start_time": "2023-08-12T09:13:17.073767",
     "status": "completed"
    },
    "tags": []
   },
   "source": [
    "# IMPORTING REQUIRED LIBRARIES:"
   ]
  },
  {
   "cell_type": "code",
   "execution_count": 1,
   "id": "611dab35",
   "metadata": {
    "execution": {
     "iopub.execute_input": "2023-08-12T09:13:17.112516Z",
     "iopub.status.busy": "2023-08-12T09:13:17.111821Z",
     "iopub.status.idle": "2023-08-12T09:13:18.843057Z",
     "shell.execute_reply": "2023-08-12T09:13:18.841966Z"
    },
    "papermill": {
     "duration": 1.747306,
     "end_time": "2023-08-12T09:13:18.845541",
     "exception": false,
     "start_time": "2023-08-12T09:13:17.098235",
     "status": "completed"
    },
    "tags": []
   },
   "outputs": [
    {
     "name": "stderr",
     "output_type": "stream",
     "text": [
      "/opt/conda/lib/python3.10/site-packages/scipy/__init__.py:146: UserWarning: A NumPy version >=1.16.5 and <1.23.0 is required for this version of SciPy (detected version 1.23.5\n",
      "  warnings.warn(f\"A NumPy version >={np_minversion} and <{np_maxversion}\"\n"
     ]
    },
    {
     "name": "stdout",
     "output_type": "stream",
     "text": [
      "/kaggle/input/karnataka-assembly-result-2023-dataset/karnatak_assembly_election_2023.xlsx\n"
     ]
    }
   ],
   "source": [
    "# This Python 3 environment comes with many helpful analytics libraries installed\n",
    "# It is defined by the kaggle/python Docker image: https://github.com/kaggle/docker-python\n",
    "# For example, here's several helpful packages to load\n",
    "\n",
    "import numpy as np # linear algebra\n",
    "import pandas as pd # data processing, CSV file I/O (e.g. pd.read_csv)\n",
    "import  matplotlib.pyplot as plt\n",
    "import seaborn as sns\n",
    "\n",
    "# Input data files are available in the read-only \"../input/\" directory\n",
    "# For example, running this (by clicking run or pressing Shift+Enter) will list all files under the input directory\n",
    "\n",
    "import os\n",
    "for dirname, _, filenames in os.walk('/kaggle/input'):\n",
    "    for filename in filenames:\n",
    "        print(os.path.join(dirname, filename))\n",
    "\n",
    "# You can write up to 20GB to the current directory (/kaggle/working/) that gets preserved as output when you create a version using \"Save & Run All\" \n",
    "# You can also write temporary files to /kaggle/temp/, but they won't be saved outside of the current session"
   ]
  },
  {
   "cell_type": "markdown",
   "id": "b1498315",
   "metadata": {
    "papermill": {
     "duration": 0.010984,
     "end_time": "2023-08-12T09:13:18.867971",
     "exception": false,
     "start_time": "2023-08-12T09:13:18.856987",
     "status": "completed"
    },
    "tags": []
   },
   "source": [
    "# LOADING DATASET:"
   ]
  },
  {
   "cell_type": "code",
   "execution_count": 2,
   "id": "f404d3b4",
   "metadata": {
    "execution": {
     "iopub.execute_input": "2023-08-12T09:13:18.898758Z",
     "iopub.status.busy": "2023-08-12T09:13:18.898366Z",
     "iopub.status.idle": "2023-08-12T09:13:19.394790Z",
     "shell.execute_reply": "2023-08-12T09:13:19.393477Z"
    },
    "papermill": {
     "duration": 0.517041,
     "end_time": "2023-08-12T09:13:19.397446",
     "exception": false,
     "start_time": "2023-08-12T09:13:18.880405",
     "status": "completed"
    },
    "tags": []
   },
   "outputs": [],
   "source": [
    "df = pd.read_excel('/kaggle/input/karnataka-assembly-result-2023-dataset/karnatak_assembly_election_2023.xlsx')"
   ]
  },
  {
   "cell_type": "markdown",
   "id": "cd21680d",
   "metadata": {
    "papermill": {
     "duration": 0.011155,
     "end_time": "2023-08-12T09:13:19.421217",
     "exception": false,
     "start_time": "2023-08-12T09:13:19.410062",
     "status": "completed"
    },
    "tags": []
   },
   "source": [
    "# CHECKING DATASET:"
   ]
  },
  {
   "cell_type": "code",
   "execution_count": 3,
   "id": "a01f7448",
   "metadata": {
    "execution": {
     "iopub.execute_input": "2023-08-12T09:13:19.448163Z",
     "iopub.status.busy": "2023-08-12T09:13:19.447027Z",
     "iopub.status.idle": "2023-08-12T09:13:19.471433Z",
     "shell.execute_reply": "2023-08-12T09:13:19.470523Z"
    },
    "papermill": {
     "duration": 0.040566,
     "end_time": "2023-08-12T09:13:19.474112",
     "exception": false,
     "start_time": "2023-08-12T09:13:19.433546",
     "status": "completed"
    },
    "tags": []
   },
   "outputs": [
    {
     "data": {
      "text/html": [
       "<div>\n",
       "<style scoped>\n",
       "    .dataframe tbody tr th:only-of-type {\n",
       "        vertical-align: middle;\n",
       "    }\n",
       "\n",
       "    .dataframe tbody tr th {\n",
       "        vertical-align: top;\n",
       "    }\n",
       "\n",
       "    .dataframe thead th {\n",
       "        text-align: right;\n",
       "    }\n",
       "</style>\n",
       "<table border=\"1\" class=\"dataframe\">\n",
       "  <thead>\n",
       "    <tr style=\"text-align: right;\">\n",
       "      <th></th>\n",
       "      <th>Constituency</th>\n",
       "      <th>Const. No.</th>\n",
       "      <th>Leading Candidate</th>\n",
       "      <th>Leading Party</th>\n",
       "      <th>Trailing Candidate</th>\n",
       "      <th>Trailing Party</th>\n",
       "      <th>Margin</th>\n",
       "    </tr>\n",
       "  </thead>\n",
       "  <tbody>\n",
       "    <tr>\n",
       "      <th>0</th>\n",
       "      <td>Afzalpur</td>\n",
       "      <td>34</td>\n",
       "      <td>M.Y.PATIL</td>\n",
       "      <td>Indian National Congress</td>\n",
       "      <td>NITIN VENKAYYA GUTTEDAR</td>\n",
       "      <td>Independent</td>\n",
       "      <td>4594</td>\n",
       "    </tr>\n",
       "    <tr>\n",
       "      <th>1</th>\n",
       "      <td>Aland</td>\n",
       "      <td>46</td>\n",
       "      <td>Bhojaraj</td>\n",
       "      <td>Indian National Congress</td>\n",
       "      <td>Subhash Guttedar</td>\n",
       "      <td>Bharatiya Janata Party</td>\n",
       "      <td>10348</td>\n",
       "    </tr>\n",
       "    <tr>\n",
       "      <th>2</th>\n",
       "      <td>Anekal</td>\n",
       "      <td>177</td>\n",
       "      <td>B. SHIVANNA</td>\n",
       "      <td>Indian National Congress</td>\n",
       "      <td>SRINIVAS. C. HULLAHALLI</td>\n",
       "      <td>Bharatiya Janata Party</td>\n",
       "      <td>31325</td>\n",
       "    </tr>\n",
       "    <tr>\n",
       "      <th>3</th>\n",
       "      <td>Arabhavi</td>\n",
       "      <td>8</td>\n",
       "      <td>BALACHANDRA LAXMANRAO JARKIHOLI</td>\n",
       "      <td>Bharatiya Janata Party</td>\n",
       "      <td>BHIMAPPA GUNDAPPA GADAD</td>\n",
       "      <td>Independent</td>\n",
       "      <td>71540</td>\n",
       "    </tr>\n",
       "    <tr>\n",
       "      <th>4</th>\n",
       "      <td>Arkalgud</td>\n",
       "      <td>198</td>\n",
       "      <td>A. MANJU</td>\n",
       "      <td>Janata Dal (Secular)</td>\n",
       "      <td>M.T. KRISHNEGOWDA</td>\n",
       "      <td>Independent</td>\n",
       "      <td>19605</td>\n",
       "    </tr>\n",
       "  </tbody>\n",
       "</table>\n",
       "</div>"
      ],
      "text/plain": [
       "  Constituency  Const. No.                Leading Candidate  \\\n",
       "0     Afzalpur          34                        M.Y.PATIL   \n",
       "1        Aland          46                         Bhojaraj   \n",
       "2       Anekal         177                      B. SHIVANNA   \n",
       "3     Arabhavi           8  BALACHANDRA LAXMANRAO JARKIHOLI   \n",
       "4     Arkalgud         198                         A. MANJU   \n",
       "\n",
       "              Leading Party       Trailing Candidate          Trailing Party  \\\n",
       "0  Indian National Congress  NITIN VENKAYYA GUTTEDAR             Independent   \n",
       "1  Indian National Congress         Subhash Guttedar  Bharatiya Janata Party   \n",
       "2  Indian National Congress  SRINIVAS. C. HULLAHALLI  Bharatiya Janata Party   \n",
       "3    Bharatiya Janata Party  BHIMAPPA GUNDAPPA GADAD             Independent   \n",
       "4      Janata Dal (Secular)        M.T. KRISHNEGOWDA             Independent   \n",
       "\n",
       "   Margin  \n",
       "0    4594  \n",
       "1   10348  \n",
       "2   31325  \n",
       "3   71540  \n",
       "4   19605  "
      ]
     },
     "execution_count": 3,
     "metadata": {},
     "output_type": "execute_result"
    }
   ],
   "source": [
    "df.head()"
   ]
  },
  {
   "cell_type": "code",
   "execution_count": 4,
   "id": "a5909faa",
   "metadata": {
    "execution": {
     "iopub.execute_input": "2023-08-12T09:13:19.498783Z",
     "iopub.status.busy": "2023-08-12T09:13:19.498368Z",
     "iopub.status.idle": "2023-08-12T09:13:19.511462Z",
     "shell.execute_reply": "2023-08-12T09:13:19.510654Z"
    },
    "papermill": {
     "duration": 0.027717,
     "end_time": "2023-08-12T09:13:19.513344",
     "exception": false,
     "start_time": "2023-08-12T09:13:19.485627",
     "status": "completed"
    },
    "tags": []
   },
   "outputs": [
    {
     "data": {
      "text/html": [
       "<div>\n",
       "<style scoped>\n",
       "    .dataframe tbody tr th:only-of-type {\n",
       "        vertical-align: middle;\n",
       "    }\n",
       "\n",
       "    .dataframe tbody tr th {\n",
       "        vertical-align: top;\n",
       "    }\n",
       "\n",
       "    .dataframe thead th {\n",
       "        text-align: right;\n",
       "    }\n",
       "</style>\n",
       "<table border=\"1\" class=\"dataframe\">\n",
       "  <thead>\n",
       "    <tr style=\"text-align: right;\">\n",
       "      <th></th>\n",
       "      <th>Constituency</th>\n",
       "      <th>Const. No.</th>\n",
       "      <th>Leading Candidate</th>\n",
       "      <th>Leading Party</th>\n",
       "      <th>Trailing Candidate</th>\n",
       "      <th>Trailing Party</th>\n",
       "      <th>Margin</th>\n",
       "    </tr>\n",
       "  </thead>\n",
       "  <tbody>\n",
       "    <tr>\n",
       "      <th>219</th>\n",
       "      <td>Yelahanka</td>\n",
       "      <td>150</td>\n",
       "      <td>S R VISHWANATH</td>\n",
       "      <td>Bharatiya Janata Party</td>\n",
       "      <td>KESHAVA RAJANNA B</td>\n",
       "      <td>Indian National Congress</td>\n",
       "      <td>64110</td>\n",
       "    </tr>\n",
       "    <tr>\n",
       "      <th>220</th>\n",
       "      <td>Yelburga</td>\n",
       "      <td>63</td>\n",
       "      <td>BASAVARAJ RAYAREDDI</td>\n",
       "      <td>Indian National Congress</td>\n",
       "      <td>ACHAR HALAPPA BASAPPA</td>\n",
       "      <td>Bharatiya Janata Party</td>\n",
       "      <td>17181</td>\n",
       "    </tr>\n",
       "    <tr>\n",
       "      <th>221</th>\n",
       "      <td>Yellapur</td>\n",
       "      <td>81</td>\n",
       "      <td>ARABAIL HEBBAR SHIVARAM</td>\n",
       "      <td>Bharatiya Janata Party</td>\n",
       "      <td>ANDALAGI VEERABHADRAGOUDA SHIVANAGOUD PATIL</td>\n",
       "      <td>Indian National Congress</td>\n",
       "      <td>4004</td>\n",
       "    </tr>\n",
       "    <tr>\n",
       "      <th>222</th>\n",
       "      <td>Yemkanmardi</td>\n",
       "      <td>10</td>\n",
       "      <td>SATISH LAXMANARAO JARKIHOLI</td>\n",
       "      <td>Indian National Congress</td>\n",
       "      <td>BASAVARAJ HUNDRI</td>\n",
       "      <td>Bharatiya Janata Party</td>\n",
       "      <td>57211</td>\n",
       "    </tr>\n",
       "    <tr>\n",
       "      <th>223</th>\n",
       "      <td>Yeshvanthapura</td>\n",
       "      <td>153</td>\n",
       "      <td>S.T. SOMASHEKAR</td>\n",
       "      <td>Bharatiya Janata Party</td>\n",
       "      <td>T.N.JAVARAYI GOWDA</td>\n",
       "      <td>Janata Dal (Secular)</td>\n",
       "      <td>15118</td>\n",
       "    </tr>\n",
       "  </tbody>\n",
       "</table>\n",
       "</div>"
      ],
      "text/plain": [
       "       Constituency  Const. No.            Leading Candidate  \\\n",
       "219       Yelahanka         150               S R VISHWANATH   \n",
       "220        Yelburga          63          BASAVARAJ RAYAREDDI   \n",
       "221        Yellapur          81      ARABAIL HEBBAR SHIVARAM   \n",
       "222     Yemkanmardi          10  SATISH LAXMANARAO JARKIHOLI   \n",
       "223  Yeshvanthapura         153              S.T. SOMASHEKAR   \n",
       "\n",
       "                Leading Party                           Trailing Candidate  \\\n",
       "219    Bharatiya Janata Party                            KESHAVA RAJANNA B   \n",
       "220  Indian National Congress                        ACHAR HALAPPA BASAPPA   \n",
       "221    Bharatiya Janata Party  ANDALAGI VEERABHADRAGOUDA SHIVANAGOUD PATIL   \n",
       "222  Indian National Congress                             BASAVARAJ HUNDRI   \n",
       "223    Bharatiya Janata Party                           T.N.JAVARAYI GOWDA   \n",
       "\n",
       "               Trailing Party  Margin  \n",
       "219  Indian National Congress   64110  \n",
       "220    Bharatiya Janata Party   17181  \n",
       "221  Indian National Congress    4004  \n",
       "222    Bharatiya Janata Party   57211  \n",
       "223      Janata Dal (Secular)   15118  "
      ]
     },
     "execution_count": 4,
     "metadata": {},
     "output_type": "execute_result"
    }
   ],
   "source": [
    "df.tail()"
   ]
  },
  {
   "cell_type": "code",
   "execution_count": 5,
   "id": "1dc7c3e9",
   "metadata": {
    "execution": {
     "iopub.execute_input": "2023-08-12T09:13:19.539786Z",
     "iopub.status.busy": "2023-08-12T09:13:19.539214Z",
     "iopub.status.idle": "2023-08-12T09:13:19.556292Z",
     "shell.execute_reply": "2023-08-12T09:13:19.554260Z"
    },
    "papermill": {
     "duration": 0.033959,
     "end_time": "2023-08-12T09:13:19.558996",
     "exception": false,
     "start_time": "2023-08-12T09:13:19.525037",
     "status": "completed"
    },
    "tags": []
   },
   "outputs": [
    {
     "data": {
      "text/html": [
       "<div>\n",
       "<style scoped>\n",
       "    .dataframe tbody tr th:only-of-type {\n",
       "        vertical-align: middle;\n",
       "    }\n",
       "\n",
       "    .dataframe tbody tr th {\n",
       "        vertical-align: top;\n",
       "    }\n",
       "\n",
       "    .dataframe thead th {\n",
       "        text-align: right;\n",
       "    }\n",
       "</style>\n",
       "<table border=\"1\" class=\"dataframe\">\n",
       "  <thead>\n",
       "    <tr style=\"text-align: right;\">\n",
       "      <th></th>\n",
       "      <th>Constituency</th>\n",
       "      <th>Const. No.</th>\n",
       "      <th>Leading Candidate</th>\n",
       "      <th>Leading Party</th>\n",
       "      <th>Trailing Candidate</th>\n",
       "      <th>Trailing Party</th>\n",
       "      <th>Margin</th>\n",
       "    </tr>\n",
       "  </thead>\n",
       "  <tbody>\n",
       "    <tr>\n",
       "      <th>85</th>\n",
       "      <td>Heggadadevankote</td>\n",
       "      <td>213</td>\n",
       "      <td>ANIL CHIKKAMADHU</td>\n",
       "      <td>Indian National Congress</td>\n",
       "      <td>K.M. KRISHNANAYAKA</td>\n",
       "      <td>Bharatiya Janata Party</td>\n",
       "      <td>34939</td>\n",
       "    </tr>\n",
       "    <tr>\n",
       "      <th>139</th>\n",
       "      <td>Malavalli</td>\n",
       "      <td>186</td>\n",
       "      <td>P.M.Narendraswamy</td>\n",
       "      <td>Indian National Congress</td>\n",
       "      <td>Dr|| K. Annadani</td>\n",
       "      <td>Janata Dal (Secular)</td>\n",
       "      <td>46846</td>\n",
       "    </tr>\n",
       "    <tr>\n",
       "      <th>193</th>\n",
       "      <td>Shravanabelagola</td>\n",
       "      <td>193</td>\n",
       "      <td>C.N. BALAKRISHNA</td>\n",
       "      <td>Janata Dal (Secular)</td>\n",
       "      <td>M.A. GOPALASWAMY</td>\n",
       "      <td>Indian National Congress</td>\n",
       "      <td>6645</td>\n",
       "    </tr>\n",
       "    <tr>\n",
       "      <th>38</th>\n",
       "      <td>C.V. Raman Nagar</td>\n",
       "      <td>161</td>\n",
       "      <td>S. RAGHU</td>\n",
       "      <td>Bharatiya Janata Party</td>\n",
       "      <td>ANAND KUMAR. S</td>\n",
       "      <td>Indian National Congress</td>\n",
       "      <td>16395</td>\n",
       "    </tr>\n",
       "    <tr>\n",
       "      <th>68</th>\n",
       "      <td>Govindraj Nagar</td>\n",
       "      <td>166</td>\n",
       "      <td>PRIYAKRISHNA</td>\n",
       "      <td>Indian National Congress</td>\n",
       "      <td>K. UMESH SHETTY</td>\n",
       "      <td>Bharatiya Janata Party</td>\n",
       "      <td>12516</td>\n",
       "    </tr>\n",
       "  </tbody>\n",
       "</table>\n",
       "</div>"
      ],
      "text/plain": [
       "         Constituency  Const. No.  Leading Candidate  \\\n",
       "85   Heggadadevankote         213   ANIL CHIKKAMADHU   \n",
       "139         Malavalli         186  P.M.Narendraswamy   \n",
       "193  Shravanabelagola         193   C.N. BALAKRISHNA   \n",
       "38   C.V. Raman Nagar         161           S. RAGHU   \n",
       "68    Govindraj Nagar         166       PRIYAKRISHNA   \n",
       "\n",
       "                Leading Party  Trailing Candidate            Trailing Party  \\\n",
       "85   Indian National Congress  K.M. KRISHNANAYAKA    Bharatiya Janata Party   \n",
       "139  Indian National Congress    Dr|| K. Annadani      Janata Dal (Secular)   \n",
       "193      Janata Dal (Secular)    M.A. GOPALASWAMY  Indian National Congress   \n",
       "38     Bharatiya Janata Party      ANAND KUMAR. S  Indian National Congress   \n",
       "68   Indian National Congress     K. UMESH SHETTY    Bharatiya Janata Party   \n",
       "\n",
       "     Margin  \n",
       "85    34939  \n",
       "139   46846  \n",
       "193    6645  \n",
       "38    16395  \n",
       "68    12516  "
      ]
     },
     "execution_count": 5,
     "metadata": {},
     "output_type": "execute_result"
    }
   ],
   "source": [
    "df.sample(5)"
   ]
  },
  {
   "cell_type": "markdown",
   "id": "947c1886",
   "metadata": {
    "papermill": {
     "duration": 0.013018,
     "end_time": "2023-08-12T09:13:19.584234",
     "exception": false,
     "start_time": "2023-08-12T09:13:19.571216",
     "status": "completed"
    },
    "tags": []
   },
   "source": [
    "# GETTING BASIC INFO ABOUT DATASET AND ITS COLUMNS:"
   ]
  },
  {
   "cell_type": "code",
   "execution_count": 6,
   "id": "46016a41",
   "metadata": {
    "execution": {
     "iopub.execute_input": "2023-08-12T09:13:19.612470Z",
     "iopub.status.busy": "2023-08-12T09:13:19.611081Z",
     "iopub.status.idle": "2023-08-12T09:13:19.619182Z",
     "shell.execute_reply": "2023-08-12T09:13:19.618008Z"
    },
    "papermill": {
     "duration": 0.023847,
     "end_time": "2023-08-12T09:13:19.621297",
     "exception": false,
     "start_time": "2023-08-12T09:13:19.597450",
     "status": "completed"
    },
    "tags": []
   },
   "outputs": [
    {
     "data": {
      "text/plain": [
       "(224, 7)"
      ]
     },
     "execution_count": 6,
     "metadata": {},
     "output_type": "execute_result"
    }
   ],
   "source": [
    "df.shape"
   ]
  },
  {
   "cell_type": "code",
   "execution_count": 7,
   "id": "5422c13f",
   "metadata": {
    "execution": {
     "iopub.execute_input": "2023-08-12T09:13:19.648406Z",
     "iopub.status.busy": "2023-08-12T09:13:19.647302Z",
     "iopub.status.idle": "2023-08-12T09:13:19.657692Z",
     "shell.execute_reply": "2023-08-12T09:13:19.656167Z"
    },
    "papermill": {
     "duration": 0.026501,
     "end_time": "2023-08-12T09:13:19.660388",
     "exception": false,
     "start_time": "2023-08-12T09:13:19.633887",
     "status": "completed"
    },
    "tags": []
   },
   "outputs": [
    {
     "data": {
      "text/plain": [
       "Constituency          0\n",
       "Const. No.            0\n",
       "Leading Candidate     0\n",
       "Leading Party         0\n",
       "Trailing Candidate    0\n",
       "Trailing Party        0\n",
       "Margin                0\n",
       "dtype: int64"
      ]
     },
     "execution_count": 7,
     "metadata": {},
     "output_type": "execute_result"
    }
   ],
   "source": [
    "df.isna().sum()"
   ]
  },
  {
   "cell_type": "code",
   "execution_count": 8,
   "id": "7ddcbb70",
   "metadata": {
    "execution": {
     "iopub.execute_input": "2023-08-12T09:13:19.687730Z",
     "iopub.status.busy": "2023-08-12T09:13:19.687374Z",
     "iopub.status.idle": "2023-08-12T09:13:19.713178Z",
     "shell.execute_reply": "2023-08-12T09:13:19.710702Z"
    },
    "papermill": {
     "duration": 0.042065,
     "end_time": "2023-08-12T09:13:19.715804",
     "exception": false,
     "start_time": "2023-08-12T09:13:19.673739",
     "status": "completed"
    },
    "tags": []
   },
   "outputs": [
    {
     "name": "stdout",
     "output_type": "stream",
     "text": [
      "<class 'pandas.core.frame.DataFrame'>\n",
      "RangeIndex: 224 entries, 0 to 223\n",
      "Data columns (total 7 columns):\n",
      " #   Column              Non-Null Count  Dtype \n",
      "---  ------              --------------  ----- \n",
      " 0   Constituency        224 non-null    object\n",
      " 1   Const. No.          224 non-null    int64 \n",
      " 2   Leading Candidate   224 non-null    object\n",
      " 3   Leading Party       224 non-null    object\n",
      " 4   Trailing Candidate  224 non-null    object\n",
      " 5   Trailing Party      224 non-null    object\n",
      " 6   Margin              224 non-null    int64 \n",
      "dtypes: int64(2), object(5)\n",
      "memory usage: 12.4+ KB\n"
     ]
    }
   ],
   "source": [
    "df.info()"
   ]
  },
  {
   "cell_type": "code",
   "execution_count": 9,
   "id": "50c0f3e3",
   "metadata": {
    "execution": {
     "iopub.execute_input": "2023-08-12T09:13:19.742387Z",
     "iopub.status.busy": "2023-08-12T09:13:19.741669Z",
     "iopub.status.idle": "2023-08-12T09:13:19.760328Z",
     "shell.execute_reply": "2023-08-12T09:13:19.759253Z"
    },
    "papermill": {
     "duration": 0.03475,
     "end_time": "2023-08-12T09:13:19.762811",
     "exception": false,
     "start_time": "2023-08-12T09:13:19.728061",
     "status": "completed"
    },
    "tags": []
   },
   "outputs": [
    {
     "data": {
      "text/html": [
       "<div>\n",
       "<style scoped>\n",
       "    .dataframe tbody tr th:only-of-type {\n",
       "        vertical-align: middle;\n",
       "    }\n",
       "\n",
       "    .dataframe tbody tr th {\n",
       "        vertical-align: top;\n",
       "    }\n",
       "\n",
       "    .dataframe thead th {\n",
       "        text-align: right;\n",
       "    }\n",
       "</style>\n",
       "<table border=\"1\" class=\"dataframe\">\n",
       "  <thead>\n",
       "    <tr style=\"text-align: right;\">\n",
       "      <th></th>\n",
       "      <th>Const. No.</th>\n",
       "      <th>Margin</th>\n",
       "    </tr>\n",
       "  </thead>\n",
       "  <tbody>\n",
       "    <tr>\n",
       "      <th>count</th>\n",
       "      <td>224.000000</td>\n",
       "      <td>224.000000</td>\n",
       "    </tr>\n",
       "    <tr>\n",
       "      <th>mean</th>\n",
       "      <td>112.500000</td>\n",
       "      <td>20944.397321</td>\n",
       "    </tr>\n",
       "    <tr>\n",
       "      <th>std</th>\n",
       "      <td>64.807407</td>\n",
       "      <td>17839.688316</td>\n",
       "    </tr>\n",
       "    <tr>\n",
       "      <th>min</th>\n",
       "      <td>1.000000</td>\n",
       "      <td>105.000000</td>\n",
       "    </tr>\n",
       "    <tr>\n",
       "      <th>25%</th>\n",
       "      <td>56.750000</td>\n",
       "      <td>7842.500000</td>\n",
       "    </tr>\n",
       "    <tr>\n",
       "      <th>50%</th>\n",
       "      <td>112.500000</td>\n",
       "      <td>15968.500000</td>\n",
       "    </tr>\n",
       "    <tr>\n",
       "      <th>75%</th>\n",
       "      <td>168.250000</td>\n",
       "      <td>30774.500000</td>\n",
       "    </tr>\n",
       "    <tr>\n",
       "      <th>max</th>\n",
       "      <td>224.000000</td>\n",
       "      <td>122392.000000</td>\n",
       "    </tr>\n",
       "  </tbody>\n",
       "</table>\n",
       "</div>"
      ],
      "text/plain": [
       "       Const. No.         Margin\n",
       "count  224.000000     224.000000\n",
       "mean   112.500000   20944.397321\n",
       "std     64.807407   17839.688316\n",
       "min      1.000000     105.000000\n",
       "25%     56.750000    7842.500000\n",
       "50%    112.500000   15968.500000\n",
       "75%    168.250000   30774.500000\n",
       "max    224.000000  122392.000000"
      ]
     },
     "execution_count": 9,
     "metadata": {},
     "output_type": "execute_result"
    }
   ],
   "source": [
    "df.describe()"
   ]
  },
  {
   "cell_type": "code",
   "execution_count": 10,
   "id": "8f0ac093",
   "metadata": {
    "execution": {
     "iopub.execute_input": "2023-08-12T09:13:19.790652Z",
     "iopub.status.busy": "2023-08-12T09:13:19.790264Z",
     "iopub.status.idle": "2023-08-12T09:13:19.799275Z",
     "shell.execute_reply": "2023-08-12T09:13:19.797600Z"
    },
    "papermill": {
     "duration": 0.025527,
     "end_time": "2023-08-12T09:13:19.801155",
     "exception": false,
     "start_time": "2023-08-12T09:13:19.775628",
     "status": "completed"
    },
    "tags": []
   },
   "outputs": [
    {
     "data": {
      "text/plain": [
       "Bharatiya Janata Party           112\n",
       "Indian National Congress          65\n",
       "Janata Dal (Secular)              33\n",
       "Independent                       11\n",
       "Kalyana Rajya Pragathi Paksha      1\n",
       "Nationalist Congress Party         1\n",
       "Bahujan Samaj Party                1\n",
       "Name: Trailing Party, dtype: int64"
      ]
     },
     "execution_count": 10,
     "metadata": {},
     "output_type": "execute_result"
    }
   ],
   "source": [
    "df['Trailing Party'].value_counts()"
   ]
  },
  {
   "cell_type": "code",
   "execution_count": 11,
   "id": "d11f6507",
   "metadata": {
    "execution": {
     "iopub.execute_input": "2023-08-12T09:13:19.829338Z",
     "iopub.status.busy": "2023-08-12T09:13:19.828175Z",
     "iopub.status.idle": "2023-08-12T09:13:19.839320Z",
     "shell.execute_reply": "2023-08-12T09:13:19.837755Z"
    },
    "papermill": {
     "duration": 0.027358,
     "end_time": "2023-08-12T09:13:19.841340",
     "exception": false,
     "start_time": "2023-08-12T09:13:19.813982",
     "status": "completed"
    },
    "tags": []
   },
   "outputs": [
    {
     "data": {
      "text/plain": [
       "Indian National Congress         136\n",
       "Bharatiya Janata Party            65\n",
       "Janata Dal (Secular)              19\n",
       "Independent                        2\n",
       "Kalyana Rajya Pragathi Paksha      1\n",
       "Sarvodaya Karnataka Paksha         1\n",
       "Name: Leading Party, dtype: int64"
      ]
     },
     "execution_count": 11,
     "metadata": {},
     "output_type": "execute_result"
    }
   ],
   "source": [
    "df['Leading Party'].value_counts()"
   ]
  },
  {
   "cell_type": "markdown",
   "id": "759b00a3",
   "metadata": {
    "papermill": {
     "duration": 0.013591,
     "end_time": "2023-08-12T09:13:19.867733",
     "exception": false,
     "start_time": "2023-08-12T09:13:19.854142",
     "status": "completed"
    },
    "tags": []
   },
   "source": [
    "## Observations:\n",
    "- The election was conducted in 224 constituencies of Karnataka.\n",
    "- No null/missing values found in dataset.\n",
    "- All columns except Const. No. and Margin (int64) have datatype object which was expected.\n",
    "- Minimum winning margin in this election was 105 votes.\n",
    "- Maximum winning margin in this election was 122,392 votes."
   ]
  },
  {
   "cell_type": "markdown",
   "id": "c8785142",
   "metadata": {
    "papermill": {
     "duration": 0.013817,
     "end_time": "2023-08-12T09:13:19.895990",
     "exception": false,
     "start_time": "2023-08-12T09:13:19.882173",
     "status": "completed"
    },
    "tags": []
   },
   "source": [
    "# VISUALIZING LEADING PARTIES:"
   ]
  },
  {
   "cell_type": "code",
   "execution_count": 12,
   "id": "4f21ead6",
   "metadata": {
    "execution": {
     "iopub.execute_input": "2023-08-12T09:13:19.926886Z",
     "iopub.status.busy": "2023-08-12T09:13:19.926266Z",
     "iopub.status.idle": "2023-08-12T09:13:20.238873Z",
     "shell.execute_reply": "2023-08-12T09:13:20.237631Z"
    },
    "papermill": {
     "duration": 0.331616,
     "end_time": "2023-08-12T09:13:20.241509",
     "exception": false,
     "start_time": "2023-08-12T09:13:19.909893",
     "status": "completed"
    },
    "tags": []
   },
   "outputs": [
    {
     "data": {
      "text/plain": [
       "(array([0, 1, 2, 3, 4, 5]),\n",
       " [Text(0, 0, 'Indian National Congress'),\n",
       "  Text(1, 0, 'Bharatiya Janata Party'),\n",
       "  Text(2, 0, 'Janata Dal (Secular)'),\n",
       "  Text(3, 0, 'Independent'),\n",
       "  Text(4, 0, 'Kalyana Rajya Pragathi Paksha'),\n",
       "  Text(5, 0, 'Sarvodaya Karnataka Paksha')])"
      ]
     },
     "execution_count": 12,
     "metadata": {},
     "output_type": "execute_result"
    },
    {
     "data": {
      "image/png": "[encoded data removed]",
      "text/plain": [
       "<Figure size 640x480 with 1 Axes>"
      ]
     },
     "metadata": {},
     "output_type": "display_data"
    }
   ],
   "source": [
    "sns.countplot(data = df, x = 'Leading Party', order = df['Leading Party'].value_counts().index)\n",
    "plt.xticks(rotation = 90)"
   ]
  },
  {
   "cell_type": "markdown",
   "id": "364a14f0",
   "metadata": {
    "papermill": {
     "duration": 0.014648,
     "end_time": "2023-08-12T09:13:20.270424",
     "exception": false,
     "start_time": "2023-08-12T09:13:20.255776",
     "status": "completed"
    },
    "tags": []
   },
   "source": [
    "## Observations:\n",
    "- Indian National Congress is leading in maximum constituencies.\n",
    "- 3 major parties dominated the state elections."
   ]
  },
  {
   "cell_type": "markdown",
   "id": "63909393",
   "metadata": {
    "papermill": {
     "duration": 0.012759,
     "end_time": "2023-08-12T09:13:20.296496",
     "exception": false,
     "start_time": "2023-08-12T09:13:20.283737",
     "status": "completed"
    },
    "tags": []
   },
   "source": [
    "# VISUALIZING TRAILING PARTIES:"
   ]
  },
  {
   "cell_type": "code",
   "execution_count": 13,
   "id": "88e0690d",
   "metadata": {
    "execution": {
     "iopub.execute_input": "2023-08-12T09:13:20.328346Z",
     "iopub.status.busy": "2023-08-12T09:13:20.327873Z",
     "iopub.status.idle": "2023-08-12T09:13:20.572530Z",
     "shell.execute_reply": "2023-08-12T09:13:20.571174Z"
    },
    "papermill": {
     "duration": 0.264661,
     "end_time": "2023-08-12T09:13:20.575477",
     "exception": false,
     "start_time": "2023-08-12T09:13:20.310816",
     "status": "completed"
    },
    "tags": []
   },
   "outputs": [
    {
     "data": {
      "text/plain": [
       "(array([0, 1, 2, 3, 4, 5, 6]),\n",
       " [Text(0, 0, 'Bharatiya Janata Party'),\n",
       "  Text(1, 0, 'Indian National Congress'),\n",
       "  Text(2, 0, 'Janata Dal (Secular)'),\n",
       "  Text(3, 0, 'Independent'),\n",
       "  Text(4, 0, 'Kalyana Rajya Pragathi Paksha'),\n",
       "  Text(5, 0, 'Nationalist Congress Party'),\n",
       "  Text(6, 0, 'Bahujan Samaj Party')])"
      ]
     },
     "execution_count": 13,
     "metadata": {},
     "output_type": "execute_result"
    },
    {
     "data": {
      "image/png": "[encoded data removed]",
      "text/plain": [
       "<Figure size 640x480 with 1 Axes>"
      ]
     },
     "metadata": {},
     "output_type": "display_data"
    }
   ],
   "source": [
    "sns.countplot(data = df, x = 'Trailing Party', order = df['Trailing Party'].value_counts().index)\n",
    "plt.xticks(rotation = 90)"
   ]
  },
  {
   "cell_type": "markdown",
   "id": "495b807e",
   "metadata": {
    "papermill": {
     "duration": 0.013539,
     "end_time": "2023-08-12T09:13:20.605089",
     "exception": false,
     "start_time": "2023-08-12T09:13:20.591550",
     "status": "completed"
    },
    "tags": []
   },
   "source": [
    "## Observations: \n",
    "- Bhartiya Janata Party is trailing at most constituencies which means they were the major competitors in these elections.\n",
    "- The analysis will be conducted on the three major parties from here on as they cover almost whole dataset."
   ]
  },
  {
   "cell_type": "markdown",
   "id": "420c9a2e",
   "metadata": {
    "papermill": {
     "duration": 0.013921,
     "end_time": "2023-08-12T09:13:20.634430",
     "exception": false,
     "start_time": "2023-08-12T09:13:20.620509",
     "status": "completed"
    },
    "tags": []
   },
   "source": [
    "# ANALYZING WINNING PARTIES:"
   ]
  },
  {
   "cell_type": "markdown",
   "id": "e5da312b",
   "metadata": {
    "papermill": {
     "duration": 0.016369,
     "end_time": "2023-08-12T09:13:20.664368",
     "exception": false,
     "start_time": "2023-08-12T09:13:20.647999",
     "status": "completed"
    },
    "tags": []
   },
   "source": [
    "## Indian National Congress:"
   ]
  },
  {
   "cell_type": "code",
   "execution_count": 14,
   "id": "6eb26c4e",
   "metadata": {
    "execution": {
     "iopub.execute_input": "2023-08-12T09:13:20.697138Z",
     "iopub.status.busy": "2023-08-12T09:13:20.696737Z",
     "iopub.status.idle": "2023-08-12T09:13:20.703417Z",
     "shell.execute_reply": "2023-08-12T09:13:20.701814Z"
    },
    "papermill": {
     "duration": 0.025194,
     "end_time": "2023-08-12T09:13:20.706200",
     "exception": false,
     "start_time": "2023-08-12T09:13:20.681006",
     "status": "completed"
    },
    "tags": []
   },
   "outputs": [],
   "source": [
    "df_inc = df[df['Leading Party']=='Indian National Congress']"
   ]
  },
  {
   "cell_type": "code",
   "execution_count": 15,
   "id": "01fa06ed",
   "metadata": {
    "execution": {
     "iopub.execute_input": "2023-08-12T09:13:20.740889Z",
     "iopub.status.busy": "2023-08-12T09:13:20.740244Z",
     "iopub.status.idle": "2023-08-12T09:13:20.748088Z",
     "shell.execute_reply": "2023-08-12T09:13:20.746294Z"
    },
    "papermill": {
     "duration": 0.029398,
     "end_time": "2023-08-12T09:13:20.751222",
     "exception": false,
     "start_time": "2023-08-12T09:13:20.721824",
     "status": "completed"
    },
    "tags": []
   },
   "outputs": [
    {
     "name": "stdout",
     "output_type": "stream",
     "text": [
      "Maximum winning margin of Indian National Congress:  122392\n",
      "Minimum winning margin of Indian National Congress:  105\n",
      "Average winning margin of Indian National Congress:  22217\n"
     ]
    }
   ],
   "source": [
    "print('Maximum winning margin of Indian National Congress: ', df_inc['Margin'].max())\n",
    "print('Minimum winning margin of Indian National Congress: ', df_inc['Margin'].min())\n",
    "print('Average winning margin of Indian National Congress: ', int(df_inc['Margin'].mean()))"
   ]
  },
  {
   "cell_type": "code",
   "execution_count": 16,
   "id": "88df5cf6",
   "metadata": {
    "execution": {
     "iopub.execute_input": "2023-08-12T09:13:20.783981Z",
     "iopub.status.busy": "2023-08-12T09:13:20.783529Z",
     "iopub.status.idle": "2023-08-12T09:13:20.798926Z",
     "shell.execute_reply": "2023-08-12T09:13:20.797749Z"
    },
    "papermill": {
     "duration": 0.033293,
     "end_time": "2023-08-12T09:13:20.801631",
     "exception": false,
     "start_time": "2023-08-12T09:13:20.768338",
     "status": "completed"
    },
    "tags": []
   },
   "outputs": [
    {
     "data": {
      "text/html": [
       "<div>\n",
       "<style scoped>\n",
       "    .dataframe tbody tr th:only-of-type {\n",
       "        vertical-align: middle;\n",
       "    }\n",
       "\n",
       "    .dataframe tbody tr th {\n",
       "        vertical-align: top;\n",
       "    }\n",
       "\n",
       "    .dataframe thead th {\n",
       "        text-align: right;\n",
       "    }\n",
       "</style>\n",
       "<table border=\"1\" class=\"dataframe\">\n",
       "  <thead>\n",
       "    <tr style=\"text-align: right;\">\n",
       "      <th></th>\n",
       "      <th>Constituency</th>\n",
       "      <th>Const. No.</th>\n",
       "      <th>Leading Candidate</th>\n",
       "      <th>Leading Party</th>\n",
       "      <th>Trailing Candidate</th>\n",
       "      <th>Trailing Party</th>\n",
       "      <th>Margin</th>\n",
       "    </tr>\n",
       "  </thead>\n",
       "  <tbody>\n",
       "    <tr>\n",
       "      <th>111</th>\n",
       "      <td>Kanakapura</td>\n",
       "      <td>184</td>\n",
       "      <td>D K SHIVAKUMAR</td>\n",
       "      <td>Indian National Congress</td>\n",
       "      <td>B NAGARAJU</td>\n",
       "      <td>Janata Dal (Secular)</td>\n",
       "      <td>122392</td>\n",
       "    </tr>\n",
       "  </tbody>\n",
       "</table>\n",
       "</div>"
      ],
      "text/plain": [
       "    Constituency  Const. No. Leading Candidate             Leading Party  \\\n",
       "111   Kanakapura         184    D K SHIVAKUMAR  Indian National Congress   \n",
       "\n",
       "    Trailing Candidate        Trailing Party  Margin  \n",
       "111         B NAGARAJU  Janata Dal (Secular)  122392  "
      ]
     },
     "execution_count": 16,
     "metadata": {},
     "output_type": "execute_result"
    }
   ],
   "source": [
    "df_inc.loc[df['Margin']==df_inc['Margin'].max()]"
   ]
  },
  {
   "cell_type": "code",
   "execution_count": 17,
   "id": "ce8f2ee4",
   "metadata": {
    "execution": {
     "iopub.execute_input": "2023-08-12T09:13:20.833161Z",
     "iopub.status.busy": "2023-08-12T09:13:20.832232Z",
     "iopub.status.idle": "2023-08-12T09:13:20.850865Z",
     "shell.execute_reply": "2023-08-12T09:13:20.849227Z"
    },
    "papermill": {
     "duration": 0.037594,
     "end_time": "2023-08-12T09:13:20.853186",
     "exception": false,
     "start_time": "2023-08-12T09:13:20.815592",
     "status": "completed"
    },
    "tags": []
   },
   "outputs": [
    {
     "data": {
      "text/html": [
       "<div>\n",
       "<style scoped>\n",
       "    .dataframe tbody tr th:only-of-type {\n",
       "        vertical-align: middle;\n",
       "    }\n",
       "\n",
       "    .dataframe tbody tr th {\n",
       "        vertical-align: top;\n",
       "    }\n",
       "\n",
       "    .dataframe thead th {\n",
       "        text-align: right;\n",
       "    }\n",
       "</style>\n",
       "<table border=\"1\" class=\"dataframe\">\n",
       "  <thead>\n",
       "    <tr style=\"text-align: right;\">\n",
       "      <th></th>\n",
       "      <th>Constituency</th>\n",
       "      <th>Const. No.</th>\n",
       "      <th>Leading Candidate</th>\n",
       "      <th>Leading Party</th>\n",
       "      <th>Trailing Candidate</th>\n",
       "      <th>Trailing Party</th>\n",
       "      <th>Margin</th>\n",
       "    </tr>\n",
       "  </thead>\n",
       "  <tbody>\n",
       "    <tr>\n",
       "      <th>64</th>\n",
       "      <td>Gandhi Nagar</td>\n",
       "      <td>164</td>\n",
       "      <td>DINESH GUNDU RAO</td>\n",
       "      <td>Indian National Congress</td>\n",
       "      <td>SAPTHAGIRI GOWDA A R</td>\n",
       "      <td>Bharatiya Janata Party</td>\n",
       "      <td>105</td>\n",
       "    </tr>\n",
       "  </tbody>\n",
       "</table>\n",
       "</div>"
      ],
      "text/plain": [
       "    Constituency  Const. No. Leading Candidate             Leading Party  \\\n",
       "64  Gandhi Nagar         164  DINESH GUNDU RAO  Indian National Congress   \n",
       "\n",
       "      Trailing Candidate          Trailing Party  Margin  \n",
       "64  SAPTHAGIRI GOWDA A R  Bharatiya Janata Party     105  "
      ]
     },
     "execution_count": 17,
     "metadata": {},
     "output_type": "execute_result"
    }
   ],
   "source": [
    "df_inc.loc[df['Margin']==df_inc['Margin'].min()]"
   ]
  },
  {
   "cell_type": "markdown",
   "id": "212d6523",
   "metadata": {
    "papermill": {
     "duration": 0.014081,
     "end_time": "2023-08-12T09:13:20.882045",
     "exception": false,
     "start_time": "2023-08-12T09:13:20.867964",
     "status": "completed"
    },
    "tags": []
   },
   "source": [
    "## Observations: \n",
    "- Maximum winning margin of Indian National Congress:  122392\n",
    "- Minimum winning margin of Indian National Congress:  105\n",
    "- Average winning margin of Indian National Congress:  22217\n",
    "- Biggest win for Indian National Congress came in Kanakapura(184) constituency.\n",
    "- Biggest win for Indian National Congress was for Mr. D K Shivakumar where he defeated Mr. B Nagaraju of Janta Dal (Secular).\n",
    "- Smallest win for Indian National Congress came in Gandhi Nagar(164) constituency.\n",
    "- Smallest win for Indian National Congress was for Mr. Dinesh Gundu Rao where he defeated Mr. Sapthagiri Gowda A R of Bhartiya Janata Party."
   ]
  },
  {
   "cell_type": "markdown",
   "id": "23663ac2",
   "metadata": {
    "papermill": {
     "duration": 0.014038,
     "end_time": "2023-08-12T09:13:20.911291",
     "exception": false,
     "start_time": "2023-08-12T09:13:20.897253",
     "status": "completed"
    },
    "tags": []
   },
   "source": [
    "## Bhartiya Janata Party:"
   ]
  },
  {
   "cell_type": "code",
   "execution_count": 18,
   "id": "49ab98f5",
   "metadata": {
    "execution": {
     "iopub.execute_input": "2023-08-12T09:13:20.942701Z",
     "iopub.status.busy": "2023-08-12T09:13:20.941805Z",
     "iopub.status.idle": "2023-08-12T09:13:20.947333Z",
     "shell.execute_reply": "2023-08-12T09:13:20.946676Z"
    },
    "papermill": {
     "duration": 0.022412,
     "end_time": "2023-08-12T09:13:20.948922",
     "exception": false,
     "start_time": "2023-08-12T09:13:20.926510",
     "status": "completed"
    },
    "tags": []
   },
   "outputs": [],
   "source": [
    "df_bjp = df[df['Leading Party']== 'Bharatiya Janata Party']"
   ]
  },
  {
   "cell_type": "code",
   "execution_count": 19,
   "id": "306ed294",
   "metadata": {
    "execution": {
     "iopub.execute_input": "2023-08-12T09:13:20.980004Z",
     "iopub.status.busy": "2023-08-12T09:13:20.979600Z",
     "iopub.status.idle": "2023-08-12T09:13:20.985701Z",
     "shell.execute_reply": "2023-08-12T09:13:20.984716Z"
    },
    "papermill": {
     "duration": 0.024485,
     "end_time": "2023-08-12T09:13:20.987481",
     "exception": false,
     "start_time": "2023-08-12T09:13:20.962996",
     "status": "completed"
    },
    "tags": []
   },
   "outputs": [
    {
     "name": "stdout",
     "output_type": "stream",
     "text": [
      "Maximum winning margin of Bharatiya Janata Party:  71540\n",
      "Minimum winning margin of Bharatiya Janata Party:  676\n",
      "Average winning margin of Bharatiya Janata Party:  20333\n"
     ]
    }
   ],
   "source": [
    "print('Maximum winning margin of Bharatiya Janata Party: ', df_bjp['Margin'].max())\n",
    "print('Minimum winning margin of Bharatiya Janata Party: ', df_bjp['Margin'].min())\n",
    "print('Average winning margin of Bharatiya Janata Party: ', int(df_bjp['Margin'].mean()))"
   ]
  },
  {
   "cell_type": "code",
   "execution_count": 20,
   "id": "b0360266",
   "metadata": {
    "execution": {
     "iopub.execute_input": "2023-08-12T09:13:21.018771Z",
     "iopub.status.busy": "2023-08-12T09:13:21.018345Z",
     "iopub.status.idle": "2023-08-12T09:13:21.031061Z",
     "shell.execute_reply": "2023-08-12T09:13:21.029554Z"
    },
    "papermill": {
     "duration": 0.031047,
     "end_time": "2023-08-12T09:13:21.032967",
     "exception": false,
     "start_time": "2023-08-12T09:13:21.001920",
     "status": "completed"
    },
    "tags": []
   },
   "outputs": [
    {
     "data": {
      "text/html": [
       "<div>\n",
       "<style scoped>\n",
       "    .dataframe tbody tr th:only-of-type {\n",
       "        vertical-align: middle;\n",
       "    }\n",
       "\n",
       "    .dataframe tbody tr th {\n",
       "        vertical-align: top;\n",
       "    }\n",
       "\n",
       "    .dataframe thead th {\n",
       "        text-align: right;\n",
       "    }\n",
       "</style>\n",
       "<table border=\"1\" class=\"dataframe\">\n",
       "  <thead>\n",
       "    <tr style=\"text-align: right;\">\n",
       "      <th></th>\n",
       "      <th>Constituency</th>\n",
       "      <th>Const. No.</th>\n",
       "      <th>Leading Candidate</th>\n",
       "      <th>Leading Party</th>\n",
       "      <th>Trailing Candidate</th>\n",
       "      <th>Trailing Party</th>\n",
       "      <th>Margin</th>\n",
       "    </tr>\n",
       "  </thead>\n",
       "  <tbody>\n",
       "    <tr>\n",
       "      <th>3</th>\n",
       "      <td>Arabhavi</td>\n",
       "      <td>8</td>\n",
       "      <td>BALACHANDRA LAXMANRAO JARKIHOLI</td>\n",
       "      <td>Bharatiya Janata Party</td>\n",
       "      <td>BHIMAPPA GUNDAPPA GADAD</td>\n",
       "      <td>Independent</td>\n",
       "      <td>71540</td>\n",
       "    </tr>\n",
       "  </tbody>\n",
       "</table>\n",
       "</div>"
      ],
      "text/plain": [
       "  Constituency  Const. No.                Leading Candidate  \\\n",
       "3     Arabhavi           8  BALACHANDRA LAXMANRAO JARKIHOLI   \n",
       "\n",
       "            Leading Party       Trailing Candidate Trailing Party  Margin  \n",
       "3  Bharatiya Janata Party  BHIMAPPA GUNDAPPA GADAD    Independent   71540  "
      ]
     },
     "execution_count": 20,
     "metadata": {},
     "output_type": "execute_result"
    }
   ],
   "source": [
    "df_bjp.loc[df['Margin']==df_bjp['Margin'].max()]"
   ]
  },
  {
   "cell_type": "code",
   "execution_count": 21,
   "id": "9f818fef",
   "metadata": {
    "execution": {
     "iopub.execute_input": "2023-08-12T09:13:21.065912Z",
     "iopub.status.busy": "2023-08-12T09:13:21.065435Z",
     "iopub.status.idle": "2023-08-12T09:13:21.078858Z",
     "shell.execute_reply": "2023-08-12T09:13:21.077904Z"
    },
    "papermill": {
     "duration": 0.034419,
     "end_time": "2023-08-12T09:13:21.081471",
     "exception": false,
     "start_time": "2023-08-12T09:13:21.047052",
     "status": "completed"
    },
    "tags": []
   },
   "outputs": [
    {
     "data": {
      "text/html": [
       "<div>\n",
       "<style scoped>\n",
       "    .dataframe tbody tr th:only-of-type {\n",
       "        vertical-align: middle;\n",
       "    }\n",
       "\n",
       "    .dataframe tbody tr th {\n",
       "        vertical-align: top;\n",
       "    }\n",
       "\n",
       "    .dataframe thead th {\n",
       "        text-align: right;\n",
       "    }\n",
       "</style>\n",
       "<table border=\"1\" class=\"dataframe\">\n",
       "  <thead>\n",
       "    <tr style=\"text-align: right;\">\n",
       "      <th></th>\n",
       "      <th>Constituency</th>\n",
       "      <th>Const. No.</th>\n",
       "      <th>Leading Candidate</th>\n",
       "      <th>Leading Party</th>\n",
       "      <th>Trailing Candidate</th>\n",
       "      <th>Trailing Party</th>\n",
       "      <th>Margin</th>\n",
       "    </tr>\n",
       "  </thead>\n",
       "  <tbody>\n",
       "    <tr>\n",
       "      <th>127</th>\n",
       "      <td>Kumta</td>\n",
       "      <td>78</td>\n",
       "      <td>DINAKAR KESHAV SHETTY</td>\n",
       "      <td>Bharatiya Janata Party</td>\n",
       "      <td>SURAJ NAIK SONI</td>\n",
       "      <td>Janata Dal (Secular)</td>\n",
       "      <td>676</td>\n",
       "    </tr>\n",
       "  </tbody>\n",
       "</table>\n",
       "</div>"
      ],
      "text/plain": [
       "    Constituency  Const. No.      Leading Candidate           Leading Party  \\\n",
       "127        Kumta          78  DINAKAR KESHAV SHETTY  Bharatiya Janata Party   \n",
       "\n",
       "    Trailing Candidate        Trailing Party  Margin  \n",
       "127    SURAJ NAIK SONI  Janata Dal (Secular)     676  "
      ]
     },
     "execution_count": 21,
     "metadata": {},
     "output_type": "execute_result"
    }
   ],
   "source": [
    "df_bjp.loc[df['Margin']==df_bjp['Margin'].min()]"
   ]
  },
  {
   "cell_type": "markdown",
   "id": "e1b65ec9",
   "metadata": {
    "papermill": {
     "duration": 0.015046,
     "end_time": "2023-08-12T09:13:21.111019",
     "exception": false,
     "start_time": "2023-08-12T09:13:21.095973",
     "status": "completed"
    },
    "tags": []
   },
   "source": [
    "## Observations: \n",
    "- Maximum winning margin of Bhartiya Janata Party:  71540\n",
    "- Minimum winning margin of Bhartiya Janata Party:  676\n",
    "- Average winning margin of Bhartiya Janata Party:  20333\n",
    "- Biggest win for Bhartiya Janata Party came in Arabhavi(8) constituency.\n",
    "- Biggest win for Bhartiya Janata Party was for Mr. BALACHANDRA LAXMANRAO JARKIHOLI where he defeated Mr. BHIMAPPA GUNDAPPA GADAD (Independent Candidate).\n",
    "- Smallest win for Bhartiya Janata Party came in Kumta(78) constituency.\n",
    "- Smallest win for Bhartiya Janata Party was for Mr. DINAKAR KESHAV SHETTY where he defeated Mr. SURAJ NAIK SONI of Janta Dal (Secular)."
   ]
  },
  {
   "cell_type": "markdown",
   "id": "3d91d033",
   "metadata": {
    "papermill": {
     "duration": 0.014678,
     "end_time": "2023-08-12T09:13:21.144659",
     "exception": false,
     "start_time": "2023-08-12T09:13:21.129981",
     "status": "completed"
    },
    "tags": []
   },
   "source": [
    "## Janta Dal (Secular)"
   ]
  },
  {
   "cell_type": "code",
   "execution_count": 22,
   "id": "c3b75b4b",
   "metadata": {
    "execution": {
     "iopub.execute_input": "2023-08-12T09:13:21.178201Z",
     "iopub.status.busy": "2023-08-12T09:13:21.177691Z",
     "iopub.status.idle": "2023-08-12T09:13:21.184786Z",
     "shell.execute_reply": "2023-08-12T09:13:21.183415Z"
    },
    "papermill": {
     "duration": 0.027722,
     "end_time": "2023-08-12T09:13:21.187192",
     "exception": false,
     "start_time": "2023-08-12T09:13:21.159470",
     "status": "completed"
    },
    "tags": []
   },
   "outputs": [],
   "source": [
    "df_jd = df[df['Leading Party']== 'Janata Dal (Secular)']"
   ]
  },
  {
   "cell_type": "code",
   "execution_count": 23,
   "id": "808ad48b",
   "metadata": {
    "execution": {
     "iopub.execute_input": "2023-08-12T09:13:21.217606Z",
     "iopub.status.busy": "2023-08-12T09:13:21.217226Z",
     "iopub.status.idle": "2023-08-12T09:13:21.225371Z",
     "shell.execute_reply": "2023-08-12T09:13:21.223480Z"
    },
    "papermill": {
     "duration": 0.025702,
     "end_time": "2023-08-12T09:13:21.227378",
     "exception": false,
     "start_time": "2023-08-12T09:13:21.201676",
     "status": "completed"
    },
    "tags": []
   },
   "outputs": [
    {
     "name": "stdout",
     "output_type": "stream",
     "text": [
      "Maximum winning margin of Janata Dal (Secular):  34256\n",
      "Minimum winning margin of Janata Dal (Secular):  2412\n",
      "Average winning margin of Janata Dal (Secular):  14632\n"
     ]
    }
   ],
   "source": [
    "print('Maximum winning margin of Janata Dal (Secular): ', df_jd['Margin'].max())\n",
    "print('Minimum winning margin of Janata Dal (Secular): ', df_jd['Margin'].min())\n",
    "print('Average winning margin of Janata Dal (Secular): ', int(df_jd['Margin'].mean()))"
   ]
  },
  {
   "cell_type": "code",
   "execution_count": 24,
   "id": "9d594efb",
   "metadata": {
    "execution": {
     "iopub.execute_input": "2023-08-12T09:13:21.258110Z",
     "iopub.status.busy": "2023-08-12T09:13:21.257715Z",
     "iopub.status.idle": "2023-08-12T09:13:21.270301Z",
     "shell.execute_reply": "2023-08-12T09:13:21.269398Z"
    },
    "papermill": {
     "duration": 0.030815,
     "end_time": "2023-08-12T09:13:21.272702",
     "exception": false,
     "start_time": "2023-08-12T09:13:21.241887",
     "status": "completed"
    },
    "tags": []
   },
   "outputs": [
    {
     "data": {
      "text/html": [
       "<div>\n",
       "<style scoped>\n",
       "    .dataframe tbody tr th:only-of-type {\n",
       "        vertical-align: middle;\n",
       "    }\n",
       "\n",
       "    .dataframe tbody tr th {\n",
       "        vertical-align: top;\n",
       "    }\n",
       "\n",
       "    .dataframe thead th {\n",
       "        text-align: right;\n",
       "    }\n",
       "</style>\n",
       "<table border=\"1\" class=\"dataframe\">\n",
       "  <thead>\n",
       "    <tr style=\"text-align: right;\">\n",
       "      <th></th>\n",
       "      <th>Constituency</th>\n",
       "      <th>Const. No.</th>\n",
       "      <th>Leading Candidate</th>\n",
       "      <th>Leading Party</th>\n",
       "      <th>Trailing Candidate</th>\n",
       "      <th>Trailing Party</th>\n",
       "      <th>Margin</th>\n",
       "    </tr>\n",
       "  </thead>\n",
       "  <tbody>\n",
       "    <tr>\n",
       "      <th>58</th>\n",
       "      <td>Devadurga</td>\n",
       "      <td>56</td>\n",
       "      <td>Karemma</td>\n",
       "      <td>Janata Dal (Secular)</td>\n",
       "      <td>Shivanagouda</td>\n",
       "      <td>Bharatiya Janata Party</td>\n",
       "      <td>34256</td>\n",
       "    </tr>\n",
       "  </tbody>\n",
       "</table>\n",
       "</div>"
      ],
      "text/plain": [
       "   Constituency  Const. No. Leading Candidate         Leading Party  \\\n",
       "58    Devadurga          56           Karemma  Janata Dal (Secular)   \n",
       "\n",
       "   Trailing Candidate          Trailing Party  Margin  \n",
       "58       Shivanagouda  Bharatiya Janata Party   34256  "
      ]
     },
     "execution_count": 24,
     "metadata": {},
     "output_type": "execute_result"
    }
   ],
   "source": [
    "df_jd.loc[df['Margin']==df_jd['Margin'].max()]"
   ]
  },
  {
   "cell_type": "code",
   "execution_count": 25,
   "id": "a45a85cc",
   "metadata": {
    "execution": {
     "iopub.execute_input": "2023-08-12T09:13:21.304059Z",
     "iopub.status.busy": "2023-08-12T09:13:21.303612Z",
     "iopub.status.idle": "2023-08-12T09:13:21.316513Z",
     "shell.execute_reply": "2023-08-12T09:13:21.315151Z"
    },
    "papermill": {
     "duration": 0.03177,
     "end_time": "2023-08-12T09:13:21.319333",
     "exception": false,
     "start_time": "2023-08-12T09:13:21.287563",
     "status": "completed"
    },
    "tags": []
   },
   "outputs": [
    {
     "data": {
      "text/html": [
       "<div>\n",
       "<style scoped>\n",
       "    .dataframe tbody tr th:only-of-type {\n",
       "        vertical-align: middle;\n",
       "    }\n",
       "\n",
       "    .dataframe tbody tr th {\n",
       "        vertical-align: top;\n",
       "    }\n",
       "\n",
       "    .dataframe thead th {\n",
       "        text-align: right;\n",
       "    }\n",
       "</style>\n",
       "<table border=\"1\" class=\"dataframe\">\n",
       "  <thead>\n",
       "    <tr style=\"text-align: right;\">\n",
       "      <th></th>\n",
       "      <th>Constituency</th>\n",
       "      <th>Const. No.</th>\n",
       "      <th>Leading Candidate</th>\n",
       "      <th>Leading Party</th>\n",
       "      <th>Trailing Candidate</th>\n",
       "      <th>Trailing Party</th>\n",
       "      <th>Margin</th>\n",
       "    </tr>\n",
       "  </thead>\n",
       "  <tbody>\n",
       "    <tr>\n",
       "      <th>99</th>\n",
       "      <td>Hunsur</td>\n",
       "      <td>212</td>\n",
       "      <td>G.D. HARISH GOWDA</td>\n",
       "      <td>Janata Dal (Secular)</td>\n",
       "      <td>H.P.MANJUNATH</td>\n",
       "      <td>Indian National Congress</td>\n",
       "      <td>2412</td>\n",
       "    </tr>\n",
       "  </tbody>\n",
       "</table>\n",
       "</div>"
      ],
      "text/plain": [
       "   Constituency  Const. No.  Leading Candidate         Leading Party  \\\n",
       "99       Hunsur         212  G.D. HARISH GOWDA  Janata Dal (Secular)   \n",
       "\n",
       "   Trailing Candidate            Trailing Party  Margin  \n",
       "99      H.P.MANJUNATH  Indian National Congress    2412  "
      ]
     },
     "execution_count": 25,
     "metadata": {},
     "output_type": "execute_result"
    }
   ],
   "source": [
    "df_jd.loc[df['Margin']==df_jd['Margin'].min()]"
   ]
  },
  {
   "cell_type": "markdown",
   "id": "7f5c51e0",
   "metadata": {
    "papermill": {
     "duration": 0.013986,
     "end_time": "2023-08-12T09:13:21.348324",
     "exception": false,
     "start_time": "2023-08-12T09:13:21.334338",
     "status": "completed"
    },
    "tags": []
   },
   "source": [
    "## Observations: \n",
    "- Maximum winning margin of Janata Dal (Secular):  34256\n",
    "- Minimum winning margin of Janata Dal (Secular):  2412\n",
    "- Average winning margin of Janata Dal (Secular):  14632\n",
    "- Biggest win for Janata Dal (Secular) came in Devadurga(56) constituency.\n",
    "- Biggest win for Janata Dal (Secular) was for Mr. Karemma where he defeated Mr. Shivanagouda of Bhartiya Janata Party.\n",
    "- Smallest win for Janata Dal (Secular) came in Hunsur(212) constituency.\n",
    "- Smallest win for Janata Dal (Secular) was for Mr. G.D. HARISH GOWDA where he defeated Mr. H.P.MANJUNATH of Indian National Congress."
   ]
  },
  {
   "cell_type": "markdown",
   "id": "183bff7c",
   "metadata": {
    "papermill": {
     "duration": 0.015992,
     "end_time": "2023-08-12T09:13:21.378879",
     "exception": false,
     "start_time": "2023-08-12T09:13:21.362887",
     "status": "completed"
    },
    "tags": []
   },
   "source": [
    "# ANALYZING TRAILING PARTIES:"
   ]
  },
  {
   "cell_type": "markdown",
   "id": "90bf2baf",
   "metadata": {
    "papermill": {
     "duration": 0.015866,
     "end_time": "2023-08-12T09:13:21.411330",
     "exception": false,
     "start_time": "2023-08-12T09:13:21.395464",
     "status": "completed"
    },
    "tags": []
   },
   "source": [
    "## Indian National Congress:"
   ]
  },
  {
   "cell_type": "code",
   "execution_count": 26,
   "id": "5f78c379",
   "metadata": {
    "execution": {
     "iopub.execute_input": "2023-08-12T09:13:21.443558Z",
     "iopub.status.busy": "2023-08-12T09:13:21.443200Z",
     "iopub.status.idle": "2023-08-12T09:13:21.449615Z",
     "shell.execute_reply": "2023-08-12T09:13:21.447926Z"
    },
    "papermill": {
     "duration": 0.025514,
     "end_time": "2023-08-12T09:13:21.451952",
     "exception": false,
     "start_time": "2023-08-12T09:13:21.426438",
     "status": "completed"
    },
    "tags": []
   },
   "outputs": [],
   "source": [
    "df_inc = df[df['Trailing Party']=='Indian National Congress']"
   ]
  },
  {
   "cell_type": "code",
   "execution_count": 27,
   "id": "68e77b82",
   "metadata": {
    "execution": {
     "iopub.execute_input": "2023-08-12T09:13:21.486033Z",
     "iopub.status.busy": "2023-08-12T09:13:21.485641Z",
     "iopub.status.idle": "2023-08-12T09:13:21.493795Z",
     "shell.execute_reply": "2023-08-12T09:13:21.492542Z"
    },
    "papermill": {
     "duration": 0.027171,
     "end_time": "2023-08-12T09:13:21.495979",
     "exception": false,
     "start_time": "2023-08-12T09:13:21.468808",
     "status": "completed"
    },
    "tags": []
   },
   "outputs": [
    {
     "name": "stdout",
     "output_type": "stream",
     "text": [
      "Maximum losing margin of Indian National Congress:  64110\n",
      "Minimum losing margin of Indian National Congress:  858\n",
      "Average losing margin of Indian National Congress:  20423\n"
     ]
    }
   ],
   "source": [
    "print('Maximum losing margin of Indian National Congress: ', df_inc['Margin'].max())\n",
    "print('Minimum losing margin of Indian National Congress: ', df_inc['Margin'].min())\n",
    "print('Average losing margin of Indian National Congress: ', int(df_inc['Margin'].mean()))"
   ]
  },
  {
   "cell_type": "code",
   "execution_count": 28,
   "id": "81549f82",
   "metadata": {
    "execution": {
     "iopub.execute_input": "2023-08-12T09:13:21.528443Z",
     "iopub.status.busy": "2023-08-12T09:13:21.527979Z",
     "iopub.status.idle": "2023-08-12T09:13:21.545249Z",
     "shell.execute_reply": "2023-08-12T09:13:21.543729Z"
    },
    "papermill": {
     "duration": 0.03635,
     "end_time": "2023-08-12T09:13:21.547580",
     "exception": false,
     "start_time": "2023-08-12T09:13:21.511230",
     "status": "completed"
    },
    "tags": []
   },
   "outputs": [
    {
     "data": {
      "text/html": [
       "<div>\n",
       "<style scoped>\n",
       "    .dataframe tbody tr th:only-of-type {\n",
       "        vertical-align: middle;\n",
       "    }\n",
       "\n",
       "    .dataframe tbody tr th {\n",
       "        vertical-align: top;\n",
       "    }\n",
       "\n",
       "    .dataframe thead th {\n",
       "        text-align: right;\n",
       "    }\n",
       "</style>\n",
       "<table border=\"1\" class=\"dataframe\">\n",
       "  <thead>\n",
       "    <tr style=\"text-align: right;\">\n",
       "      <th></th>\n",
       "      <th>Constituency</th>\n",
       "      <th>Const. No.</th>\n",
       "      <th>Leading Candidate</th>\n",
       "      <th>Leading Party</th>\n",
       "      <th>Trailing Candidate</th>\n",
       "      <th>Trailing Party</th>\n",
       "      <th>Margin</th>\n",
       "    </tr>\n",
       "  </thead>\n",
       "  <tbody>\n",
       "    <tr>\n",
       "      <th>219</th>\n",
       "      <td>Yelahanka</td>\n",
       "      <td>150</td>\n",
       "      <td>S R VISHWANATH</td>\n",
       "      <td>Bharatiya Janata Party</td>\n",
       "      <td>KESHAVA RAJANNA B</td>\n",
       "      <td>Indian National Congress</td>\n",
       "      <td>64110</td>\n",
       "    </tr>\n",
       "  </tbody>\n",
       "</table>\n",
       "</div>"
      ],
      "text/plain": [
       "    Constituency  Const. No. Leading Candidate           Leading Party  \\\n",
       "219    Yelahanka         150    S R VISHWANATH  Bharatiya Janata Party   \n",
       "\n",
       "    Trailing Candidate            Trailing Party  Margin  \n",
       "219  KESHAVA RAJANNA B  Indian National Congress   64110  "
      ]
     },
     "execution_count": 28,
     "metadata": {},
     "output_type": "execute_result"
    }
   ],
   "source": [
    "df_inc.loc[df['Margin']==df_inc['Margin'].max()]"
   ]
  },
  {
   "cell_type": "code",
   "execution_count": 29,
   "id": "7f3bbc29",
   "metadata": {
    "execution": {
     "iopub.execute_input": "2023-08-12T09:13:21.580178Z",
     "iopub.status.busy": "2023-08-12T09:13:21.579715Z",
     "iopub.status.idle": "2023-08-12T09:13:21.600324Z",
     "shell.execute_reply": "2023-08-12T09:13:21.598645Z"
    },
    "papermill": {
     "duration": 0.039764,
     "end_time": "2023-08-12T09:13:21.602807",
     "exception": false,
     "start_time": "2023-08-12T09:13:21.563043",
     "status": "completed"
    },
    "tags": []
   },
   "outputs": [
    {
     "data": {
      "text/html": [
       "<div>\n",
       "<style scoped>\n",
       "    .dataframe tbody tr th:only-of-type {\n",
       "        vertical-align: middle;\n",
       "    }\n",
       "\n",
       "    .dataframe tbody tr th {\n",
       "        vertical-align: top;\n",
       "    }\n",
       "\n",
       "    .dataframe thead th {\n",
       "        text-align: right;\n",
       "    }\n",
       "</style>\n",
       "<table border=\"1\" class=\"dataframe\">\n",
       "  <thead>\n",
       "    <tr style=\"text-align: right;\">\n",
       "      <th></th>\n",
       "      <th>Constituency</th>\n",
       "      <th>Const. No.</th>\n",
       "      <th>Leading Candidate</th>\n",
       "      <th>Leading Party</th>\n",
       "      <th>Trailing Candidate</th>\n",
       "      <th>Trailing Party</th>\n",
       "      <th>Margin</th>\n",
       "    </tr>\n",
       "  </thead>\n",
       "  <tbody>\n",
       "    <tr>\n",
       "      <th>51</th>\n",
       "      <td>Chincholi</td>\n",
       "      <td>42</td>\n",
       "      <td>AVINASH UMESH JADHAV</td>\n",
       "      <td>Bharatiya Janata Party</td>\n",
       "      <td>SUBHASH V RATHOD</td>\n",
       "      <td>Indian National Congress</td>\n",
       "      <td>858</td>\n",
       "    </tr>\n",
       "  </tbody>\n",
       "</table>\n",
       "</div>"
      ],
      "text/plain": [
       "   Constituency  Const. No.     Leading Candidate           Leading Party  \\\n",
       "51    Chincholi          42  AVINASH UMESH JADHAV  Bharatiya Janata Party   \n",
       "\n",
       "   Trailing Candidate            Trailing Party  Margin  \n",
       "51   SUBHASH V RATHOD  Indian National Congress     858  "
      ]
     },
     "execution_count": 29,
     "metadata": {},
     "output_type": "execute_result"
    }
   ],
   "source": [
    "df_inc.loc[df['Margin']==df_inc['Margin'].min()]"
   ]
  },
  {
   "cell_type": "markdown",
   "id": "af35a0ab",
   "metadata": {
    "papermill": {
     "duration": 0.016321,
     "end_time": "2023-08-12T09:13:21.635912",
     "exception": false,
     "start_time": "2023-08-12T09:13:21.619591",
     "status": "completed"
    },
    "tags": []
   },
   "source": [
    "## Observations: \n",
    "- Maximum losing margin of Indian National Congress:  64110\n",
    "- Minimum losing margin of Indian National Congress:  858\n",
    "- Average losing margin of Indian National Congress:  20423\n",
    "- Biggest defeat for Indian National Congress came in Yelahanka(150) constituency.\n",
    "- Biggest defeat for Indian National Congress was for Mr. KESHAVA RAJANNA B where he was defeated by Mr. S R VISHWANATH of Bhartiya Janata Party.\n",
    "- Smallest defeat for Indian National Congress came in Chincholi(42) constituency.\n",
    "- Smallest defeat for Indian National Congress was for Mr. SUBHASH V RATHOD where he was defeated by Mr. AVINASH UMESH JADHAV of Bhartiya Janata Party."
   ]
  },
  {
   "cell_type": "markdown",
   "id": "6a810e26",
   "metadata": {
    "papermill": {
     "duration": 0.016081,
     "end_time": "2023-08-12T09:13:21.668363",
     "exception": false,
     "start_time": "2023-08-12T09:13:21.652282",
     "status": "completed"
    },
    "tags": []
   },
   "source": [
    "## Bhartiya Janata Party:"
   ]
  },
  {
   "cell_type": "code",
   "execution_count": 30,
   "id": "dbfbcbb2",
   "metadata": {
    "execution": {
     "iopub.execute_input": "2023-08-12T09:13:21.701815Z",
     "iopub.status.busy": "2023-08-12T09:13:21.701347Z",
     "iopub.status.idle": "2023-08-12T09:13:21.707676Z",
     "shell.execute_reply": "2023-08-12T09:13:21.706193Z"
    },
    "papermill": {
     "duration": 0.026007,
     "end_time": "2023-08-12T09:13:21.709678",
     "exception": false,
     "start_time": "2023-08-12T09:13:21.683671",
     "status": "completed"
    },
    "tags": []
   },
   "outputs": [],
   "source": [
    "df_bjp = df[df['Trailing Party']== 'Bharatiya Janata Party']"
   ]
  },
  {
   "cell_type": "code",
   "execution_count": 31,
   "id": "71527d71",
   "metadata": {
    "execution": {
     "iopub.execute_input": "2023-08-12T09:13:21.742649Z",
     "iopub.status.busy": "2023-08-12T09:13:21.742207Z",
     "iopub.status.idle": "2023-08-12T09:13:21.749327Z",
     "shell.execute_reply": "2023-08-12T09:13:21.748244Z"
    },
    "papermill": {
     "duration": 0.026022,
     "end_time": "2023-08-12T09:13:21.751148",
     "exception": false,
     "start_time": "2023-08-12T09:13:21.725126",
     "status": "completed"
    },
    "tags": []
   },
   "outputs": [
    {
     "name": "stdout",
     "output_type": "stream",
     "text": [
      "Maximum losing margin of Bharatiya Janata Party:  78509\n",
      "Minimum losing margin of Bharatiya Janata Party:  105\n",
      "Average losing margin of Bharatiya Janata Party:  21704\n"
     ]
    }
   ],
   "source": [
    "print('Maximum losing margin of Bharatiya Janata Party: ', df_bjp['Margin'].max())\n",
    "print('Minimum losing margin of Bharatiya Janata Party: ', df_bjp['Margin'].min())\n",
    "print('Average losing margin of Bharatiya Janata Party: ', int(df_bjp['Margin'].mean()))"
   ]
  },
  {
   "cell_type": "code",
   "execution_count": 32,
   "id": "4bc2ac41",
   "metadata": {
    "execution": {
     "iopub.execute_input": "2023-08-12T09:13:21.783191Z",
     "iopub.status.busy": "2023-08-12T09:13:21.782731Z",
     "iopub.status.idle": "2023-08-12T09:13:21.797117Z",
     "shell.execute_reply": "2023-08-12T09:13:21.795375Z"
    },
    "papermill": {
     "duration": 0.032889,
     "end_time": "2023-08-12T09:13:21.799016",
     "exception": false,
     "start_time": "2023-08-12T09:13:21.766127",
     "status": "completed"
    },
    "tags": []
   },
   "outputs": [
    {
     "data": {
      "text/html": [
       "<div>\n",
       "<style scoped>\n",
       "    .dataframe tbody tr th:only-of-type {\n",
       "        vertical-align: middle;\n",
       "    }\n",
       "\n",
       "    .dataframe tbody tr th {\n",
       "        vertical-align: top;\n",
       "    }\n",
       "\n",
       "    .dataframe thead th {\n",
       "        text-align: right;\n",
       "    }\n",
       "</style>\n",
       "<table border=\"1\" class=\"dataframe\">\n",
       "  <thead>\n",
       "    <tr style=\"text-align: right;\">\n",
       "      <th></th>\n",
       "      <th>Constituency</th>\n",
       "      <th>Const. No.</th>\n",
       "      <th>Leading Candidate</th>\n",
       "      <th>Leading Party</th>\n",
       "      <th>Trailing Candidate</th>\n",
       "      <th>Trailing Party</th>\n",
       "      <th>Margin</th>\n",
       "    </tr>\n",
       "  </thead>\n",
       "  <tbody>\n",
       "    <tr>\n",
       "      <th>49</th>\n",
       "      <td>Chikkodi-Sadalga</td>\n",
       "      <td>2</td>\n",
       "      <td>GANESH PRAKASH HUKKERI</td>\n",
       "      <td>Indian National Congress</td>\n",
       "      <td>KATTI RAMESH VISHWANATH</td>\n",
       "      <td>Bharatiya Janata Party</td>\n",
       "      <td>78509</td>\n",
       "    </tr>\n",
       "  </tbody>\n",
       "</table>\n",
       "</div>"
      ],
      "text/plain": [
       "        Constituency  Const. No.       Leading Candidate  \\\n",
       "49  Chikkodi-Sadalga           2  GANESH PRAKASH HUKKERI   \n",
       "\n",
       "               Leading Party       Trailing Candidate          Trailing Party  \\\n",
       "49  Indian National Congress  KATTI RAMESH VISHWANATH  Bharatiya Janata Party   \n",
       "\n",
       "    Margin  \n",
       "49   78509  "
      ]
     },
     "execution_count": 32,
     "metadata": {},
     "output_type": "execute_result"
    }
   ],
   "source": [
    "df_bjp.loc[df['Margin']==df_bjp['Margin'].max()]"
   ]
  },
  {
   "cell_type": "code",
   "execution_count": 33,
   "id": "56097b69",
   "metadata": {
    "execution": {
     "iopub.execute_input": "2023-08-12T09:13:21.834573Z",
     "iopub.status.busy": "2023-08-12T09:13:21.834079Z",
     "iopub.status.idle": "2023-08-12T09:13:21.847766Z",
     "shell.execute_reply": "2023-08-12T09:13:21.846775Z"
    },
    "papermill": {
     "duration": 0.035908,
     "end_time": "2023-08-12T09:13:21.850156",
     "exception": false,
     "start_time": "2023-08-12T09:13:21.814248",
     "status": "completed"
    },
    "tags": []
   },
   "outputs": [
    {
     "data": {
      "text/html": [
       "<div>\n",
       "<style scoped>\n",
       "    .dataframe tbody tr th:only-of-type {\n",
       "        vertical-align: middle;\n",
       "    }\n",
       "\n",
       "    .dataframe tbody tr th {\n",
       "        vertical-align: top;\n",
       "    }\n",
       "\n",
       "    .dataframe thead th {\n",
       "        text-align: right;\n",
       "    }\n",
       "</style>\n",
       "<table border=\"1\" class=\"dataframe\">\n",
       "  <thead>\n",
       "    <tr style=\"text-align: right;\">\n",
       "      <th></th>\n",
       "      <th>Constituency</th>\n",
       "      <th>Const. No.</th>\n",
       "      <th>Leading Candidate</th>\n",
       "      <th>Leading Party</th>\n",
       "      <th>Trailing Candidate</th>\n",
       "      <th>Trailing Party</th>\n",
       "      <th>Margin</th>\n",
       "    </tr>\n",
       "  </thead>\n",
       "  <tbody>\n",
       "    <tr>\n",
       "      <th>64</th>\n",
       "      <td>Gandhi Nagar</td>\n",
       "      <td>164</td>\n",
       "      <td>DINESH GUNDU RAO</td>\n",
       "      <td>Indian National Congress</td>\n",
       "      <td>SAPTHAGIRI GOWDA A R</td>\n",
       "      <td>Bharatiya Janata Party</td>\n",
       "      <td>105</td>\n",
       "    </tr>\n",
       "  </tbody>\n",
       "</table>\n",
       "</div>"
      ],
      "text/plain": [
       "    Constituency  Const. No. Leading Candidate             Leading Party  \\\n",
       "64  Gandhi Nagar         164  DINESH GUNDU RAO  Indian National Congress   \n",
       "\n",
       "      Trailing Candidate          Trailing Party  Margin  \n",
       "64  SAPTHAGIRI GOWDA A R  Bharatiya Janata Party     105  "
      ]
     },
     "execution_count": 33,
     "metadata": {},
     "output_type": "execute_result"
    }
   ],
   "source": [
    "df_bjp.loc[df['Margin']==df_bjp['Margin'].min()]"
   ]
  },
  {
   "cell_type": "markdown",
   "id": "09ac011b",
   "metadata": {
    "papermill": {
     "duration": 0.015037,
     "end_time": "2023-08-12T09:13:21.881343",
     "exception": false,
     "start_time": "2023-08-12T09:13:21.866306",
     "status": "completed"
    },
    "tags": []
   },
   "source": [
    "## Observations: \n",
    "- Maximum losing margin of Bharatiya Janata Party:  78509\n",
    "- Minimum losing margin of Bharatiya Janata Party:  105\n",
    "- Average losing margin of Bharatiya Janata Party:  21704\n",
    "- Biggest defeat for Bhartiya Janata Party came in Chikkodi-Sadalga(2) constituency.\n",
    "- Biggest defeat for Bhartiya Janata Party was for Mr. KATTI RAMESH VISHWANATH where he was defeated by Mr. GANESH PRAKASH HUKKERI of Indian National Congress.\n",
    "- Smallest defeat for Bhartiya Janata Party came in Gandhi Nagar(164) constituency.\n",
    "- Smallest defeat for Bhartiya Janata Party was for Mr. SAPTHAGIRI GOWDA A R where he was defeated by Mr. DINESH GUNDU RAO of Indian National Congress."
   ]
  },
  {
   "cell_type": "markdown",
   "id": "df538b1f",
   "metadata": {
    "papermill": {
     "duration": 0.018073,
     "end_time": "2023-08-12T09:13:21.915142",
     "exception": false,
     "start_time": "2023-08-12T09:13:21.897069",
     "status": "completed"
    },
    "tags": []
   },
   "source": [
    "## Janta Dal (Secular)"
   ]
  },
  {
   "cell_type": "code",
   "execution_count": 34,
   "id": "a1fcb4d4",
   "metadata": {
    "execution": {
     "iopub.execute_input": "2023-08-12T09:13:21.951660Z",
     "iopub.status.busy": "2023-08-12T09:13:21.951247Z",
     "iopub.status.idle": "2023-08-12T09:13:21.958775Z",
     "shell.execute_reply": "2023-08-12T09:13:21.956645Z"
    },
    "papermill": {
     "duration": 0.028509,
     "end_time": "2023-08-12T09:13:21.961701",
     "exception": false,
     "start_time": "2023-08-12T09:13:21.933192",
     "status": "completed"
    },
    "tags": []
   },
   "outputs": [],
   "source": [
    "df_jd = df[df['Trailing Party']== 'Janata Dal (Secular)']"
   ]
  },
  {
   "cell_type": "code",
   "execution_count": 35,
   "id": "d599786a",
   "metadata": {
    "execution": {
     "iopub.execute_input": "2023-08-12T09:13:21.998837Z",
     "iopub.status.busy": "2023-08-12T09:13:21.998394Z",
     "iopub.status.idle": "2023-08-12T09:13:22.005167Z",
     "shell.execute_reply": "2023-08-12T09:13:22.004350Z"
    },
    "papermill": {
     "duration": 0.029019,
     "end_time": "2023-08-12T09:13:22.008632",
     "exception": false,
     "start_time": "2023-08-12T09:13:21.979613",
     "status": "completed"
    },
    "tags": []
   },
   "outputs": [
    {
     "name": "stdout",
     "output_type": "stream",
     "text": [
      "Maximum losing margin of Janata Dal (Secular):  122392\n",
      "Minimum losing margin of Janata Dal (Secular):  676\n",
      "Average losing margin of Janata Dal (Secular):  18332\n"
     ]
    }
   ],
   "source": [
    "print('Maximum losing margin of Janata Dal (Secular): ', df_jd['Margin'].max())\n",
    "print('Minimum losing margin of Janata Dal (Secular): ', df_jd['Margin'].min())\n",
    "print('Average losing margin of Janata Dal (Secular): ', int(df_jd['Margin'].mean()))"
   ]
  },
  {
   "cell_type": "code",
   "execution_count": 36,
   "id": "9f97a766",
   "metadata": {
    "execution": {
     "iopub.execute_input": "2023-08-12T09:13:22.045395Z",
     "iopub.status.busy": "2023-08-12T09:13:22.044944Z",
     "iopub.status.idle": "2023-08-12T09:13:22.061048Z",
     "shell.execute_reply": "2023-08-12T09:13:22.060047Z"
    },
    "papermill": {
     "duration": 0.038297,
     "end_time": "2023-08-12T09:13:22.063115",
     "exception": false,
     "start_time": "2023-08-12T09:13:22.024818",
     "status": "completed"
    },
    "tags": []
   },
   "outputs": [
    {
     "data": {
      "text/html": [
       "<div>\n",
       "<style scoped>\n",
       "    .dataframe tbody tr th:only-of-type {\n",
       "        vertical-align: middle;\n",
       "    }\n",
       "\n",
       "    .dataframe tbody tr th {\n",
       "        vertical-align: top;\n",
       "    }\n",
       "\n",
       "    .dataframe thead th {\n",
       "        text-align: right;\n",
       "    }\n",
       "</style>\n",
       "<table border=\"1\" class=\"dataframe\">\n",
       "  <thead>\n",
       "    <tr style=\"text-align: right;\">\n",
       "      <th></th>\n",
       "      <th>Constituency</th>\n",
       "      <th>Const. No.</th>\n",
       "      <th>Leading Candidate</th>\n",
       "      <th>Leading Party</th>\n",
       "      <th>Trailing Candidate</th>\n",
       "      <th>Trailing Party</th>\n",
       "      <th>Margin</th>\n",
       "    </tr>\n",
       "  </thead>\n",
       "  <tbody>\n",
       "    <tr>\n",
       "      <th>111</th>\n",
       "      <td>Kanakapura</td>\n",
       "      <td>184</td>\n",
       "      <td>D K SHIVAKUMAR</td>\n",
       "      <td>Indian National Congress</td>\n",
       "      <td>B NAGARAJU</td>\n",
       "      <td>Janata Dal (Secular)</td>\n",
       "      <td>122392</td>\n",
       "    </tr>\n",
       "  </tbody>\n",
       "</table>\n",
       "</div>"
      ],
      "text/plain": [
       "    Constituency  Const. No. Leading Candidate             Leading Party  \\\n",
       "111   Kanakapura         184    D K SHIVAKUMAR  Indian National Congress   \n",
       "\n",
       "    Trailing Candidate        Trailing Party  Margin  \n",
       "111         B NAGARAJU  Janata Dal (Secular)  122392  "
      ]
     },
     "execution_count": 36,
     "metadata": {},
     "output_type": "execute_result"
    }
   ],
   "source": [
    "df_jd.loc[df['Margin']==df_jd['Margin'].max()]"
   ]
  },
  {
   "cell_type": "code",
   "execution_count": 37,
   "id": "bb57ec79",
   "metadata": {
    "execution": {
     "iopub.execute_input": "2023-08-12T09:13:22.104715Z",
     "iopub.status.busy": "2023-08-12T09:13:22.104302Z",
     "iopub.status.idle": "2023-08-12T09:13:22.123688Z",
     "shell.execute_reply": "2023-08-12T09:13:22.121420Z"
    },
    "papermill": {
     "duration": 0.045335,
     "end_time": "2023-08-12T09:13:22.127479",
     "exception": false,
     "start_time": "2023-08-12T09:13:22.082144",
     "status": "completed"
    },
    "tags": []
   },
   "outputs": [
    {
     "data": {
      "text/html": [
       "<div>\n",
       "<style scoped>\n",
       "    .dataframe tbody tr th:only-of-type {\n",
       "        vertical-align: middle;\n",
       "    }\n",
       "\n",
       "    .dataframe tbody tr th {\n",
       "        vertical-align: top;\n",
       "    }\n",
       "\n",
       "    .dataframe thead th {\n",
       "        text-align: right;\n",
       "    }\n",
       "</style>\n",
       "<table border=\"1\" class=\"dataframe\">\n",
       "  <thead>\n",
       "    <tr style=\"text-align: right;\">\n",
       "      <th></th>\n",
       "      <th>Constituency</th>\n",
       "      <th>Const. No.</th>\n",
       "      <th>Leading Candidate</th>\n",
       "      <th>Leading Party</th>\n",
       "      <th>Trailing Candidate</th>\n",
       "      <th>Trailing Party</th>\n",
       "      <th>Margin</th>\n",
       "    </tr>\n",
       "  </thead>\n",
       "  <tbody>\n",
       "    <tr>\n",
       "      <th>127</th>\n",
       "      <td>Kumta</td>\n",
       "      <td>78</td>\n",
       "      <td>DINAKAR KESHAV SHETTY</td>\n",
       "      <td>Bharatiya Janata Party</td>\n",
       "      <td>SURAJ NAIK SONI</td>\n",
       "      <td>Janata Dal (Secular)</td>\n",
       "      <td>676</td>\n",
       "    </tr>\n",
       "  </tbody>\n",
       "</table>\n",
       "</div>"
      ],
      "text/plain": [
       "    Constituency  Const. No.      Leading Candidate           Leading Party  \\\n",
       "127        Kumta          78  DINAKAR KESHAV SHETTY  Bharatiya Janata Party   \n",
       "\n",
       "    Trailing Candidate        Trailing Party  Margin  \n",
       "127    SURAJ NAIK SONI  Janata Dal (Secular)     676  "
      ]
     },
     "execution_count": 37,
     "metadata": {},
     "output_type": "execute_result"
    }
   ],
   "source": [
    "df_jd.loc[df['Margin']==df_jd['Margin'].min()]"
   ]
  },
  {
   "cell_type": "code",
   "execution_count": 38,
   "id": "71b40474",
   "metadata": {
    "execution": {
     "iopub.execute_input": "2023-08-12T09:13:22.163071Z",
     "iopub.status.busy": "2023-08-12T09:13:22.162414Z",
     "iopub.status.idle": "2023-08-12T09:13:22.177749Z",
     "shell.execute_reply": "2023-08-12T09:13:22.175189Z"
    },
    "papermill": {
     "duration": 0.03621,
     "end_time": "2023-08-12T09:13:22.180110",
     "exception": false,
     "start_time": "2023-08-12T09:13:22.143900",
     "status": "completed"
    },
    "tags": []
   },
   "outputs": [
    {
     "data": {
      "text/html": [
       "<div>\n",
       "<style scoped>\n",
       "    .dataframe tbody tr th:only-of-type {\n",
       "        vertical-align: middle;\n",
       "    }\n",
       "\n",
       "    .dataframe tbody tr th {\n",
       "        vertical-align: top;\n",
       "    }\n",
       "\n",
       "    .dataframe thead th {\n",
       "        text-align: right;\n",
       "    }\n",
       "</style>\n",
       "<table border=\"1\" class=\"dataframe\">\n",
       "  <thead>\n",
       "    <tr style=\"text-align: right;\">\n",
       "      <th></th>\n",
       "      <th>Constituency</th>\n",
       "      <th>Const. No.</th>\n",
       "      <th>Leading Candidate</th>\n",
       "      <th>Leading Party</th>\n",
       "      <th>Trailing Candidate</th>\n",
       "      <th>Trailing Party</th>\n",
       "      <th>Margin</th>\n",
       "    </tr>\n",
       "  </thead>\n",
       "  <tbody>\n",
       "    <tr>\n",
       "      <th>111</th>\n",
       "      <td>Kanakapura</td>\n",
       "      <td>184</td>\n",
       "      <td>D K SHIVAKUMAR</td>\n",
       "      <td>Indian National Congress</td>\n",
       "      <td>B NAGARAJU</td>\n",
       "      <td>Janata Dal (Secular)</td>\n",
       "      <td>122392</td>\n",
       "    </tr>\n",
       "  </tbody>\n",
       "</table>\n",
       "</div>"
      ],
      "text/plain": [
       "    Constituency  Const. No. Leading Candidate             Leading Party  \\\n",
       "111   Kanakapura         184    D K SHIVAKUMAR  Indian National Congress   \n",
       "\n",
       "    Trailing Candidate        Trailing Party  Margin  \n",
       "111         B NAGARAJU  Janata Dal (Secular)  122392  "
      ]
     },
     "execution_count": 38,
     "metadata": {},
     "output_type": "execute_result"
    }
   ],
   "source": [
    "df.loc[df['Margin'] == df['Margin'].max()]"
   ]
  },
  {
   "cell_type": "markdown",
   "id": "9fa4f8c3",
   "metadata": {
    "papermill": {
     "duration": 0.015862,
     "end_time": "2023-08-12T09:13:22.213244",
     "exception": false,
     "start_time": "2023-08-12T09:13:22.197382",
     "status": "completed"
    },
    "tags": []
   },
   "source": [
    "## Observations: \n",
    "- Maximum losing margin of Janata Dal (Secular):  122392\n",
    "- Minimum losing margin of Janata Dal (Secular):  676\n",
    "- Average losing margin of Janata Dal (Secular):  18332\n",
    "- Smallest defeat for Janata Dal (Secular) came in Kumta(78) constituency.\n",
    "- Smallest defeat for Janata Dal (Secular) was for Mr. SURAJ NAIK SONI where he was defeated by Mr. DINAKAR KESHAV SHETTY of Bhartiya Janata Party.\n",
    "- Biggest defeat for Janata Dal (Secular) came in Kanakapura(184) constituency.\n",
    "- Biggest defeat for Janata Dal (Secular) was for Mr. B NAGARAJU where he was defeated by Mr. D K SHIVAKUMAR of Indian National Congress."
   ]
  },
  {
   "cell_type": "code",
   "execution_count": null,
   "id": "f19f2936",
   "metadata": {
    "papermill": {
     "duration": 0.015191,
     "end_time": "2023-08-12T09:13:22.243971",
     "exception": false,
     "start_time": "2023-08-12T09:13:22.228780",
     "status": "completed"
    },
    "tags": []
   },
   "outputs": [],
   "source": []
  }
 ],
 "metadata": {
  "kernelspec": {
   "display_name": "Python 3",
   "language": "python",
   "name": "python3"
  },
  "language_info": {
   "codemirror_mode": {
    "name": "ipython",
    "version": 3
   },
   "file_extension": ".py",
   "mimetype": "text/x-python",
   "name": "python",
   "nbconvert_exporter": "python",
   "pygments_lexer": "ipython3",
   "version": "3.10.12"
  },
  "papermill": {
   "default_parameters": {},
   "duration": 16.966544,
   "end_time": "2023-08-12T09:13:23.483689",
   "environment_variables": {},
   "exception": null,
   "input_path": "__notebook__.ipynb",
   "output_path": "__notebook__.ipynb",
   "parameters": {},
   "start_time": "2023-08-12T09:13:06.517145",
   "version": "2.4.0"
  }
 },
 "nbformat": 4,
 "nbformat_minor": 5
}
